{
 "cells": [
  {
   "cell_type": "code",
   "execution_count": 7,
   "id": "690db32d",
   "metadata": {},
   "outputs": [
    {
     "name": "stdout",
     "output_type": "stream",
     "text": [
      "5\n",
      "0 1 1 2 3 "
     ]
    }
   ],
   "source": [
    "num1 = 0\n",
    "num2 = 1\n",
    "times=int(input())\n",
    "print(num1,num2,end=\" \")\n",
    "for i in range(times-2):\n",
    "    sum=num1+num2;\n",
    "    print(sum,end=\" \")\n",
    "    num1 = num2\n",
    "    num2 = sum"
   ]
  },
  {
   "cell_type": "code",
   "execution_count": null,
   "id": "0687afa4",
   "metadata": {},
   "outputs": [],
   "source": []
  }
 ],
 "metadata": {
  "kernelspec": {
   "display_name": "Python 3 (ipykernel)",
   "language": "python",
   "name": "python3"
  },
  "language_info": {
   "codemirror_mode": {
    "name": "ipython",
    "version": 3
   },
   "file_extension": ".py",
   "mimetype": "text/x-python",
   "name": "python",
   "nbconvert_exporter": "python",
   "pygments_lexer": "ipython3",
   "version": "3.9.12"
  }
 },
 "nbformat": 4,
 "nbformat_minor": 5
}
